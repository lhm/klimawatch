{
 "cells": [
  {
   "cell_type": "code",
   "execution_count": null,
   "metadata": {},
   "outputs": [],
   "source": [
    "import pandas as pd\n",
    "import numpy as np"
   ]
  },
  {
   "cell_type": "markdown",
   "metadata": {},
   "source": [
    "## Historische Emissionen\n",
    "\n",
    "Die zur Zeit aktuellsten Daten zu Treibhaus finden sich im Leipziger Amtsblatt Nr. 20/2019 (1), Seite 3. Die Daten sind als Tonnen pro Kopf angegeben. \n",
    "\n",
    "[1] https://static.leipzig.de/fileadmin/mediendatenbank/leipzig-de/Stadt/01.1_Geschaeftsbereich_OBM/12_Ref_Kommunikation/Amtsblatt/2019/Amtsblatt_2019-20.pdf"
   ]
  },
  {
   "cell_type": "code",
   "execution_count": null,
   "metadata": {},
   "outputs": [],
   "source": [
    "data = [\n",
    "    (2011, 2012, 2013, 2014, 2015, 2016, 'Bereiche'),\n",
    "    (6.42, 6.45, 6.63, 6.21, 6.15, 5.96, 'Gesamt'),\n",
    "    (3.13, 3.05, 3.21, 3.04, 2.93, 2.79, 'Wirtschaft und kommunale Einrichtungen'),\n",
    "    (1.90, 2.02, 2.06, 1.79, 1.83, 1.81, 'Haushalte'),\n",
    "    (1.39, 1.37, 1.37, 1.38, 1.39, 1.36, 'Verkehr')\n",
    "]\n",
    "\n",
    "df = pd.DataFrame(data[1:], columns=data[0])\n",
    "df"
   ]
  },
  {
   "cell_type": "markdown",
   "metadata": {},
   "source": [
    "Um dem Format von Klimawatch zu entsprechen wird die Tabelle von einem \"wide\" Format in ein \"long\" format gewandelt, die Spalten umbenannt, sowie Typ und Quelle hinzugefügt. Die Emissionen werden in 1000t CO2 (kT) umgerechnet."
   ]
  },
  {
   "cell_type": "code",
   "execution_count": null,
   "metadata": {},
   "outputs": [],
   "source": [
    "# convert to 'long' format\n",
    "emissions = df.melt(id_vars=['Bereiche'], var_name='year', value_name='per_capita')\n",
    "\n",
    "# add missing columns\n",
    "emissions[\"type\"] = \"real\"\n",
    "emissions[\"note\"] = \"Amtsblatt Nr. 20/2019\"\n",
    "\n",
    "# rename category, use required value for total emissions and mark last emissions data entry\n",
    "emissions.rename(columns={'Bereiche': 'category'}, inplace=True)\n",
    "emissions.loc[(emissions['category'] == 'Gesamt') & (emissions['year'] == 2016), 'note'] = 'last_emissions'\n",
    "\n",
    "# use year column as index\n",
    "emissions.set_index('year', inplace=True)\n",
    "emissions.index = emissions.index.astype(int)\n",
    "\n",
    "emissions"
   ]
  },
  {
   "cell_type": "markdown",
   "metadata": {},
   "source": [
    "Zur Berechnung der Emissionen in absoluten Werten benötigen wir die entsprechenden Bevölkerungszahlen. Die gibt es beim Statistikamt Leipzig (1).\n",
    "\n",
    "[1] https://statistik.leipzig.de/statcity/table.aspx?cat=2&rub=4&per=y"
   ]
  },
  {
   "cell_type": "code",
   "execution_count": null,
   "metadata": {},
   "outputs": [],
   "source": [
    "# Bevölkerung mit Hauptwohnsitz historisch\n",
    "population = pd.read_csv('./leipzig-population-historic.csv', nrows=1)\n",
    "population = population.loc[0, \"2011\":]\n",
    "\n",
    "population = pd.DataFrame.from_dict({\n",
    "    \"year\": population.index.values.astype(int),\n",
    "    \"value\": population.values,\n",
    "    \"type\": \"real\"\n",
    "})\n",
    "\n",
    "population.set_index('year', inplace=True)\n",
    "population"
   ]
  },
  {
   "cell_type": "markdown",
   "metadata": {},
   "source": [
    "Damit lassen sich jetzt die Emissionswerte in absoluten Zahlen berechnen. Da Klimawatch mit 1000t (kt) CO2 arbeitet, rechnen wir das im selben Schritt um und runden auf zwei Nachkommastellen."
   ]
  },
  {
   "cell_type": "code",
   "execution_count": null,
   "metadata": {},
   "outputs": [],
   "source": [
    "emissions['value'] = emissions.loc[2011:2016, 'per_capita'] * population.loc[2011:2016, 'value'] / 1000\n",
    "emissions['value'] = emissions.value.astype(float).round(2)\n",
    "emissions"
   ]
  },
  {
   "cell_type": "markdown",
   "metadata": {},
   "source": [
    "## Bevölkerung\n",
    "\n",
    "Die Emissionsziele in Leipzig sind als angestrebte Pro-Kopf Emissionen definiert. Um die absoluten Emissionen zu erhalten brauchen wir dafür die historischen (1) und prognostizierten (2) Bevölkerungszahlen. Da die Bevölkerungsvorausschätzung nur Daten für Einwohner mit Hauptwohnsitz enthält wählen wir auch diese für die historischen Daten. Die Tabelle aus der Voraussschätzung (S.24) wurde wieder mit Tabula extrahiert. \n",
    "\n",
    "[1] https://statistik.leipzig.de/statcity/table.aspx?cat=2&rub=4&per=y\n",
    "\n",
    "[2] https://www.leipzig.de/fileadmin/mediendatenbank/leipzig-de/Stadt/02.1_Dez1_Allgemeine_Verwaltung/12_Statistik_und_Wahlen/Stadtforschung/Bevolkerungsvorausschatzung_2019.pdf"
   ]
  },
  {
   "cell_type": "code",
   "execution_count": null,
   "metadata": {},
   "outputs": [],
   "source": [
    "parse_thousands = lambda x: (int(float(x.replace(\",\", \".\")) * 1000 ))\n",
    "\n",
    "population_forecast = pd.read_csv(\n",
    "    './leipzig-population-forecast-2019.csv', \n",
    "    header=None,\n",
    "    usecols=[0,8],\n",
    "    names=[\"year\", \"value\"],\n",
    "    converters={\"value\": parse_thousands},\n",
    "    index_col=['year']\n",
    ")\n",
    "population_forecast['type'] = 'geplant'\n",
    "\n",
    "population = population.append(population_forecast.loc[2019:])\n",
    "population"
   ]
  },
  {
   "cell_type": "markdown",
   "metadata": {},
   "source": [
    "## Emissionsziele\n",
    "\n",
    "Die Emissionsziele sind im \"Energie- und Klimaschutzkonzept der Stadt Leipzig 2014-2020\" (1), das im Mai 2014 beschlossen (2) wurde. Auf Seite 17 findet sich Abbildung 7, in der die Reduktionszielwerte (in t CO2 / Kopf) für 2020 bis 2050 dargestellt sind. Kombiniert mit der prognostizierten Bevölkerungsentwicklung lassen sich die Gesamtemissionsziele in absoluten Zahlen errechnen - mit Ausnahme von 2050, da die Bevölkerungsschätzung nicht soweit reicht.\n",
    "\n",
    "[1] https://static.leipzig.de/fileadmin/mediendatenbank/leipzig-de/Stadt/02.3_Dez3_Umwelt_Ordnung_Sport/36_Amt_fuer_Umweltschutz/Energie_und_Klima/Klimaschutz/Energie-und_Klimaschutzprogramm_2014-2020.pdf\n",
    "\n",
    "[2] https://eris.leipzig.de/appl/laura/wp5/kais02.nsf/docid/2BE5B12C52054BBFC1257CED002D822C/$FILE/V-rb-2072-ausfertigung.pdf"
   ]
  },
  {
   "cell_type": "code",
   "execution_count": null,
   "metadata": {},
   "outputs": [],
   "source": [
    "years = [2020,2030,2040]\n",
    "goals = pd.DataFrame(\n",
    "    index = years,\n",
    "    data = {\n",
    "        \"population\": population.loc[years].value,\n",
    "        \"per_capita\": [4.26, 3.48, 2.93]\n",
    "    }\n",
    ")\n",
    "\n",
    "goals['value'] = goals.population * goals.per_capita / 1000\n",
    "goals['category'] = \"Gesamt\"\n",
    "goals['type'] = \"geplant\"\n",
    "goals['note'] = \"Klimaschutzkonzept 2014-2020\"\n",
    "goals"
   ]
  },
  {
   "cell_type": "markdown",
   "metadata": {},
   "source": [
    "## Emissionen 1990\n",
    "\n",
    "Als Referenzjahr wird oft das Jahr 1990 verwendet, so auch bei Klimawatch. Die Daten für Leipzig finden sind auch im Klimaschutzkonzept, und wir fügen sie hier den historischen Emissionen hinzu."
   ]
  },
  {
   "cell_type": "code",
   "execution_count": null,
   "metadata": {},
   "outputs": [],
   "source": [
    "emissions_1990 = pd.DataFrame([\n",
    "    {'year': 1990, 'category': 'Wirtschaft und kommunale Einrichtungen', 'per_capita': 4.83},\n",
    "    {'year': 1990, 'category': 'Haushalte', 'per_capita': 4.79},\n",
    "    {'year': 1990, 'category': 'Verkehr', 'per_capita': 1.69},\n",
    "    {'year': 1990, 'category': 'Gesamt', 'per_capita': 11.31}\n",
    "])\n",
    "emissions_1990.set_index('year', inplace=True)\n",
    "\n",
    "population_1990 = 557300\n",
    "emissions_1990['value'] = emissions_1990['per_capita'] * population_1990 / 1000\n",
    "emissions_1990['type'] = 'real'\n",
    "emissions_1990['note'] = 'Klimaschutzkonzept 2014-2020'\n",
    "\n",
    "emissions_1990"
   ]
  },
  {
   "cell_type": "markdown",
   "metadata": {},
   "source": [
    "## Output\n",
    "\n",
    "Damit haben wir alle Daten zusammen, die für Klimawatch benötigt werden. Im Folgenden werden die Daten in die Form gebracht wie sie in der Anleitung (1) auf der Webseite beschrieben ist. \n",
    "\n",
    "[1] https://klimawatch.codefor.de/anleitung/\n"
   ]
  },
  {
   "cell_type": "code",
   "execution_count": null,
   "metadata": {},
   "outputs": [],
   "source": [
    "columns = ['category', 'type', 'value', 'note']\n",
    "consolidated = pd.DataFrame(columns=columns)\n",
    "\n",
    "# emission data\n",
    "consolidated = consolidated.append(emissions_1990[columns])\n",
    "consolidated = consolidated.append(emissions[columns])\n",
    "\n",
    "# emission goals\n",
    "consolidated = consolidated.append(goals[columns])\n",
    "\n",
    "# latest population data\n",
    "consolidated = consolidated.append(pd.DataFrame(\n",
    "    {\n",
    "        'category': 'Einwohner',\n",
    "        'type': 'Einwohner',\n",
    "        'value': population.loc[2018, 'value'],\n",
    "        'note': 'Bevölkerungsstatistik Leipzig'\n",
    "    },\n",
    "    index = [2018]\n",
    "))\n",
    "\n",
    "# add header for year\n",
    "consolidated.index.name = 'year'\n",
    "\n",
    "consolidated"
   ]
  },
  {
   "cell_type": "code",
   "execution_count": null,
   "metadata": {},
   "outputs": [],
   "source": [
    "consolidated.to_csv('../leipzig.csv')"
   ]
  },
  {
   "cell_type": "code",
   "execution_count": null,
   "metadata": {},
   "outputs": [],
   "source": []
  }
 ],
 "metadata": {
  "kernelspec": {
   "display_name": "Python 3",
   "language": "python",
   "name": "python3"
  },
  "language_info": {
   "codemirror_mode": {
    "name": "ipython",
    "version": 3
   },
   "file_extension": ".py",
   "mimetype": "text/x-python",
   "name": "python",
   "nbconvert_exporter": "python",
   "pygments_lexer": "ipython3",
   "version": "3.7.3"
  }
 },
 "nbformat": 4,
 "nbformat_minor": 2
}
